{
 "cells": [
  {
   "cell_type": "markdown",
   "metadata": {},
   "source": [
    "# Marketing Channel and Retention"
   ]
  },
  {
   "cell_type": "markdown",
   "metadata": {},
   "source": [
    "## Overview\n",
    "\n",
    "> \n",
    "This project looks at which marketing channels and strategies are the most effective, by age group, for\n",
    "retaining customers on a subcription long term \n"
   ]
  },
  {
   "cell_type": "markdown",
   "metadata": {},
   "source": [
    "## Variables\n",
    "\n",
    ">\n",
    "\n",
    "Some of the important variables we will look at consist of:\n",
    "    \n",
    "    * Marketing Channel: House Ads, Instagram, Email, Facebook Other\n",
    "    * Variant: Control, personalization\n",
    "    * Converted: True, False\n",
    "    * Age Group\n",
    "    * language preferred\n",
    "    * date subscribed\n",
    "    * date canceled\n",
    "\n",
    "- The column we are predicting is the converted column\n",
    
   ]
  },
  {
   "cell_type": "code",
   "execution_count": 1,
   "metadata": {},
   "outputs": [],
   "source": [
    "# Import tools\n",
    "\n",
    "import pandas as pd\n",
    "import numpy as np\n",
    "import matplotlib.pyplot as plt\n",
    "import seaborn as sns\n",
    "import sklearn\n",
    "\n",
    "\n",
    "from sklearn.model_selection import cross_val_score"
   ]
  },
  {
   "cell_type": "code",
   "execution_count": 2,
   "metadata": {},
   "outputs": [
    {
     "data": {
      "text/html": [
       "<div>\n",
       "<style scoped>\n",
       "    .dataframe tbody tr th:only-of-type {\n",
       "        vertical-align: middle;\n",
       "    }\n",
       "\n",
       "    .dataframe tbody tr th {\n",
       "        vertical-align: top;\n",
       "    }\n",
       "\n",
       "    .dataframe thead th {\n",
       "        text-align: right;\n",
       "    }\n",
       "</style>\n",
       "<table border=\"1\" class=\"dataframe\">\n",
       "  <thead>\n",
       "    <tr style=\"text-align: right;\">\n",
       "      <th></th>\n",
       "      <th>user_id</th>\n",
       "      <th>date_served</th>\n",
       "      <th>marketing_channel</th>\n",
       "      <th>variant</th>\n",
       "      <th>converted</th>\n",
       "      <th>language_displayed</th>\n",
       "      <th>language_preferred</th>\n",
       "      <th>age_group</th>\n",
       "      <th>date_subscribed</th>\n",
       "      <th>date_canceled</th>\n",
       "      <th>subscribing_channel</th>\n",
       "    </tr>\n",
       "  </thead>\n",
       "  <tbody>\n",
       "    <tr>\n",
       "      <th>0</th>\n",
       "      <td>a100000029</td>\n",
       "      <td>1/1/18</td>\n",
       "      <td>House Ads</td>\n",
       "      <td>personalization</td>\n",
       "      <td>True</td>\n",
       "      <td>English</td>\n",
       "      <td>English</td>\n",
       "      <td>0-18 years</td>\n",
       "      <td>1/1/18</td>\n",
       "      <td>NaN</td>\n",
       "      <td>House Ads</td>\n",
       "    </tr>\n",
       "    <tr>\n",
       "      <th>1</th>\n",
       "      <td>a100000030</td>\n",
       "      <td>1/1/18</td>\n",
       "      <td>House Ads</td>\n",
       "      <td>personalization</td>\n",
       "      <td>True</td>\n",
       "      <td>English</td>\n",
       "      <td>English</td>\n",
       "      <td>19-24 years</td>\n",
       "      <td>1/1/18</td>\n",
       "      <td>NaN</td>\n",
       "      <td>House Ads</td>\n",
       "    </tr>\n",
       "    <tr>\n",
       "      <th>2</th>\n",
       "      <td>a100000031</td>\n",
       "      <td>1/1/18</td>\n",
       "      <td>House Ads</td>\n",
       "      <td>personalization</td>\n",
       "      <td>True</td>\n",
       "      <td>English</td>\n",
       "      <td>English</td>\n",
       "      <td>24-30 years</td>\n",
       "      <td>1/1/18</td>\n",
       "      <td>NaN</td>\n",
       "      <td>House Ads</td>\n",
       "    </tr>\n",
       "    <tr>\n",
       "      <th>3</th>\n",
       "      <td>a100000032</td>\n",
       "      <td>1/1/18</td>\n",
       "      <td>House Ads</td>\n",
       "      <td>personalization</td>\n",
       "      <td>True</td>\n",
       "      <td>English</td>\n",
       "      <td>English</td>\n",
       "      <td>30-36 years</td>\n",
       "      <td>1/1/18</td>\n",
       "      <td>NaN</td>\n",
       "      <td>House Ads</td>\n",
       "    </tr>\n",
       "    <tr>\n",
       "      <th>4</th>\n",
       "      <td>a100000033</td>\n",
       "      <td>1/1/18</td>\n",
       "      <td>House Ads</td>\n",
       "      <td>personalization</td>\n",
       "      <td>True</td>\n",
       "      <td>English</td>\n",
       "      <td>English</td>\n",
       "      <td>36-45 years</td>\n",
       "      <td>1/1/18</td>\n",
       "      <td>NaN</td>\n",
       "      <td>House Ads</td>\n",
       "    </tr>\n",
       "  </tbody>\n",
       "</table>\n",
       "</div>"
      ],
      "text/plain": [
       "      user_id date_served marketing_channel          variant converted  \\\n",
       "0  a100000029      1/1/18         House Ads  personalization      True   \n",
       "1  a100000030      1/1/18         House Ads  personalization      True   \n",
       "2  a100000031      1/1/18         House Ads  personalization      True   \n",
       "3  a100000032      1/1/18         House Ads  personalization      True   \n",
       "4  a100000033      1/1/18         House Ads  personalization      True   \n",
       "\n",
       "  language_displayed language_preferred    age_group date_subscribed  \\\n",
       "0            English            English   0-18 years          1/1/18   \n",
       "1            English            English  19-24 years          1/1/18   \n",
       "2            English            English  24-30 years          1/1/18   \n",
       "3            English            English  30-36 years          1/1/18   \n",
       "4            English            English  36-45 years          1/1/18   \n",
       "\n",
       "  date_canceled subscribing_channel  \n",
       "0           NaN           House Ads  \n",
       "1           NaN           House Ads  \n",
       "2           NaN           House Ads  \n",
       "3           NaN           House Ads  \n",
       "4           NaN           House Ads  "
      ]
     },
     "execution_count": 2,
     "metadata": {},
     "output_type": "execute_result"
    }
   ],
   "source": [
    "df = pd.read_csv(\"marketing.csv\", parse_dates=True)\n",
    "df.drop('is_retained', axis=1, inplace=True)\n",
    "\n",
    "df.head()"
   ]
  },
  {
   "cell_type": "code",
   "execution_count": 3,
   "metadata": {},
   "outputs": [
    {
     "data": {
      "text/html": [
       "<div>\n",
       "<style scoped>\n",
       "    .dataframe tbody tr th:only-of-type {\n",
       "        vertical-align: middle;\n",
       "    }\n",
       "\n",
       "    .dataframe tbody tr th {\n",
       "        vertical-align: top;\n",
       "    }\n",
       "\n",
       "    .dataframe thead th {\n",
       "        text-align: right;\n",
       "    }\n",
       "</style>\n",
       "<table border=\"1\" class=\"dataframe\">\n",
       "  <thead>\n",
       "    <tr style=\"text-align: right;\">\n",
       "      <th></th>\n",
       "      <th>user_id</th>\n",
       "      <th>date_served</th>\n",
       "      <th>marketing_channel</th>\n",
       "      <th>variant</th>\n",
       "      <th>converted</th>\n",
       "      <th>language_displayed</th>\n",
       "      <th>language_preferred</th>\n",
       "      <th>age_group</th>\n",
       "      <th>date_subscribed</th>\n",
       "      <th>date_canceled</th>\n",
       "      <th>subscribing_channel</th>\n",
       "    </tr>\n",
       "  </thead>\n",
       "  <tbody>\n",
       "    <tr>\n",
       "      <th>count</th>\n",
       "      <td>10037</td>\n",
       "      <td>10021</td>\n",
       "      <td>10022</td>\n",
       "      <td>10037</td>\n",
       "      <td>10022</td>\n",
       "      <td>10037</td>\n",
       "      <td>10037</td>\n",
       "      <td>10037</td>\n",
       "      <td>1856</td>\n",
       "      <td>577</td>\n",
       "      <td>1856</td>\n",
       "    </tr>\n",
       "    <tr>\n",
       "      <th>unique</th>\n",
       "      <td>7309</td>\n",
       "      <td>31</td>\n",
       "      <td>5</td>\n",
       "      <td>2</td>\n",
       "      <td>2</td>\n",
       "      <td>4</td>\n",
       "      <td>4</td>\n",
       "      <td>7</td>\n",
       "      <td>31</td>\n",
       "      <td>115</td>\n",
       "      <td>5</td>\n",
       "    </tr>\n",
       "    <tr>\n",
       "      <th>top</th>\n",
       "      <td>a100000882</td>\n",
       "      <td>1/15/18</td>\n",
       "      <td>House Ads</td>\n",
       "      <td>control</td>\n",
       "      <td>False</td>\n",
       "      <td>English</td>\n",
       "      <td>English</td>\n",
       "      <td>19-24 years</td>\n",
       "      <td>1/16/18</td>\n",
       "      <td>4/2/18</td>\n",
       "      <td>Instagram</td>\n",
       "    </tr>\n",
       "    <tr>\n",
       "      <th>freq</th>\n",
       "      <td>12</td>\n",
       "      <td>789</td>\n",
       "      <td>4733</td>\n",
       "      <td>5091</td>\n",
       "      <td>8946</td>\n",
       "      <td>9793</td>\n",
       "      <td>9275</td>\n",
       "      <td>1682</td>\n",
       "      <td>163</td>\n",
       "      <td>15</td>\n",
       "      <td>600</td>\n",
       "    </tr>\n",
       "  </tbody>\n",
       "</table>\n",
       "</div>"
      ],
      "text/plain": [
       "           user_id date_served marketing_channel  variant converted  \\\n",
       "count        10037       10021             10022    10037     10022   \n",
       "unique        7309          31                 5        2         2   \n",
       "top     a100000882     1/15/18         House Ads  control     False   \n",
       "freq            12         789              4733     5091      8946   \n",
       "\n",
       "       language_displayed language_preferred    age_group date_subscribed  \\\n",
       "count               10037              10037        10037            1856   \n",
       "unique                  4                  4            7              31   \n",
       "top               English            English  19-24 years         1/16/18   \n",
       "freq                 9793               9275         1682             163   \n",
       "\n",
       "       date_canceled subscribing_channel  \n",
       "count            577                1856  \n",
       "unique           115                   5  \n",
       "top           4/2/18           Instagram  \n",
       "freq              15                 600  "
      ]
     },
     "execution_count": 3,
     "metadata": {},
     "output_type": "execute_result"
    }
   ],
   "source": [
    "df.describe()"
   ]
  },
  {
   "cell_type": "markdown",
   "metadata": {},
   "source": [
    "## DataFrame Info"
   ]
  },
  {
   "cell_type": "code",
   "execution_count": 4,
   "metadata": {},
   "outputs": [
    {
     "data": {
      "text/plain": [
       "user_id                object\n",
       "date_served            object\n",
       "marketing_channel      object\n",
       "variant                object\n",
       "converted              object\n",
       "language_displayed     object\n",
       "language_preferred     object\n",
       "age_group              object\n",
       "date_subscribed        object\n",
       "date_canceled          object\n",
       "subscribing_channel    object\n",
       "dtype: object"
      ]
     },
     "execution_count": 4,
     "metadata": {},
     "output_type": "execute_result"
    }
   ],
   "source": [
    "df.dtypes"
   ]
  },
  {
   "cell_type": "code",
   "execution_count": 5,
   "metadata": {},
   "outputs": [
    {
     "data": {
      "text/html": [
       "<div>\n",
       "<style scoped>\n",
       "    .dataframe tbody tr th:only-of-type {\n",
       "        vertical-align: middle;\n",
       "    }\n",
       "\n",
       "    .dataframe tbody tr th {\n",
       "        vertical-align: top;\n",
       "    }\n",
       "\n",
       "    .dataframe thead th {\n",
       "        text-align: right;\n",
       "    }\n",
       "</style>\n",
       "<table border=\"1\" class=\"dataframe\">\n",
       "  <thead>\n",
       "    <tr style=\"text-align: right;\">\n",
       "      <th></th>\n",
       "      <th>user_id</th>\n",
       "      <th>date_served</th>\n",
       "      <th>marketing_channel</th>\n",
       "      <th>variant</th>\n",
       "      <th>converted</th>\n",
       "      <th>language_displayed</th>\n",
       "      <th>language_preferred</th>\n",
       "      <th>age_group</th>\n",
       "      <th>date_subscribed</th>\n",
       "      <th>date_canceled</th>\n",
       "      <th>subscribing_channel</th>\n",
       "    </tr>\n",
       "  </thead>\n",
       "  <tbody>\n",
       "    <tr>\n",
       "      <th>count</th>\n",
       "      <td>10037</td>\n",
       "      <td>10021</td>\n",
       "      <td>10022</td>\n",
       "      <td>10037</td>\n",
       "      <td>10022</td>\n",
       "      <td>10037</td>\n",
       "      <td>10037</td>\n",
       "      <td>10037</td>\n",
       "      <td>1856</td>\n",
       "      <td>577</td>\n",
       "      <td>1856</td>\n",
       "    </tr>\n",
       "    <tr>\n",
       "      <th>unique</th>\n",
       "      <td>7309</td>\n",
       "      <td>31</td>\n",
       "      <td>5</td>\n",
       "      <td>2</td>\n",
       "      <td>2</td>\n",
       "      <td>4</td>\n",
       "      <td>4</td>\n",
       "      <td>7</td>\n",
       "      <td>31</td>\n",
       "      <td>115</td>\n",
       "      <td>5</td>\n",
       "    </tr>\n",
       "    <tr>\n",
       "      <th>top</th>\n",
       "      <td>a100000882</td>\n",
       "      <td>1/15/18</td>\n",
       "      <td>House Ads</td>\n",
       "      <td>control</td>\n",
       "      <td>False</td>\n",
       "      <td>English</td>\n",
       "      <td>English</td>\n",
       "      <td>19-24 years</td>\n",
       "      <td>1/16/18</td>\n",
       "      <td>4/2/18</td>\n",
       "      <td>Instagram</td>\n",
       "    </tr>\n",
       "    <tr>\n",
       "      <th>freq</th>\n",
       "      <td>12</td>\n",
       "      <td>789</td>\n",
       "      <td>4733</td>\n",
       "      <td>5091</td>\n",
       "      <td>8946</td>\n",
       "      <td>9793</td>\n",
       "      <td>9275</td>\n",
       "      <td>1682</td>\n",
       "      <td>163</td>\n",
       "      <td>15</td>\n",
       "      <td>600</td>\n",
       "    </tr>\n",
       "  </tbody>\n",
       "</table>\n",
       "</div>"
      ],
      "text/plain": [
       "           user_id date_served marketing_channel  variant converted  \\\n",
       "count        10037       10021             10022    10037     10022   \n",
       "unique        7309          31                 5        2         2   \n",
       "top     a100000882     1/15/18         House Ads  control     False   \n",
       "freq            12         789              4733     5091      8946   \n",
       "\n",
       "       language_displayed language_preferred    age_group date_subscribed  \\\n",
       "count               10037              10037        10037            1856   \n",
       "unique                  4                  4            7              31   \n",
       "top               English            English  19-24 years         1/16/18   \n",
       "freq                 9793               9275         1682             163   \n",
       "\n",
       "       date_canceled subscribing_channel  \n",
       "count            577                1856  \n",
       "unique           115                   5  \n",
       "top           4/2/18           Instagram  \n",
       "freq              15                 600  "
      ]
     },
     "execution_count": 5,
     "metadata": {},
     "output_type": "execute_result"
    }
   ],
   "source": [
    "df.describe()"
   ]
  },
  {
   "cell_type": "code",
   "execution_count": 6,
   "metadata": {},
   "outputs": [],
   "source": [
    "df['date_served'] = pd.to_datetime(df['date_served'])\n",
    "df['date_subscribed'] = pd.to_datetime(df['date_subscribed'])\n",
    "df['date_canceled'] = pd.to_datetime(df['date_canceled'])\n"
   ]
  },
  {
   "cell_type": "code",
   "execution_count": 7,
   "metadata": {},
   "outputs": [
    {
     "data": {
      "text/html": [
       "<div>\n",
       "<style scoped>\n",
       "    .dataframe tbody tr th:only-of-type {\n",
       "        vertical-align: middle;\n",
       "    }\n",
       "\n",
       "    .dataframe tbody tr th {\n",
       "        vertical-align: top;\n",
       "    }\n",
       "\n",
       "    .dataframe thead th {\n",
       "        text-align: right;\n",
       "    }\n",
       "</style>\n",
       "<table border=\"1\" class=\"dataframe\">\n",
       "  <thead>\n",
       "    <tr style=\"text-align: right;\">\n",
       "      <th></th>\n",
       "      <th>user_id</th>\n",
       "      <th>date_served</th>\n",
       "      <th>marketing_channel</th>\n",
       "      <th>variant</th>\n",
       "      <th>converted</th>\n",
       "      <th>language_displayed</th>\n",
       "      <th>language_preferred</th>\n",
       "      <th>age_group</th>\n",
       "      <th>date_subscribed</th>\n",
       "      <th>date_canceled</th>\n",
       "      <th>subscribing_channel</th>\n",
       "    </tr>\n",
       "  </thead>\n",
       "  <tbody>\n",
       "    <tr>\n",
       "      <th>0</th>\n",
       "      <td>a100000029</td>\n",
       "      <td>2018-01-01</td>\n",
       "      <td>House Ads</td>\n",
       "      <td>personalization</td>\n",
       "      <td>True</td>\n",
       "      <td>English</td>\n",
       "      <td>English</td>\n",
       "      <td>0-18 years</td>\n",
       "      <td>2018-01-01</td>\n",
       "      <td>NaT</td>\n",
       "      <td>House Ads</td>\n",
       "    </tr>\n",
       "    <tr>\n",
       "      <th>1</th>\n",
       "      <td>a100000030</td>\n",
       "      <td>2018-01-01</td>\n",
       "      <td>House Ads</td>\n",
       "      <td>personalization</td>\n",
       "      <td>True</td>\n",
       "      <td>English</td>\n",
       "      <td>English</td>\n",
       "      <td>19-24 years</td>\n",
       "      <td>2018-01-01</td>\n",
       "      <td>NaT</td>\n",
       "      <td>House Ads</td>\n",
       "    </tr>\n",
       "    <tr>\n",
       "      <th>2</th>\n",
       "      <td>a100000031</td>\n",
       "      <td>2018-01-01</td>\n",
       "      <td>House Ads</td>\n",
       "      <td>personalization</td>\n",
       "      <td>True</td>\n",
       "      <td>English</td>\n",
       "      <td>English</td>\n",
       "      <td>24-30 years</td>\n",
       "      <td>2018-01-01</td>\n",
       "      <td>NaT</td>\n",
       "      <td>House Ads</td>\n",
       "    </tr>\n",
       "    <tr>\n",
       "      <th>3</th>\n",
       "      <td>a100000032</td>\n",
       "      <td>2018-01-01</td>\n",
       "      <td>House Ads</td>\n",
       "      <td>personalization</td>\n",
       "      <td>True</td>\n",
       "      <td>English</td>\n",
       "      <td>English</td>\n",
       "      <td>30-36 years</td>\n",
       "      <td>2018-01-01</td>\n",
       "      <td>NaT</td>\n",
       "      <td>House Ads</td>\n",
       "    </tr>\n",
       "    <tr>\n",
       "      <th>4</th>\n",
       "      <td>a100000033</td>\n",
       "      <td>2018-01-01</td>\n",
       "      <td>House Ads</td>\n",
       "      <td>personalization</td>\n",
       "      <td>True</td>\n",
       "      <td>English</td>\n",
       "      <td>English</td>\n",
       "      <td>36-45 years</td>\n",
       "      <td>2018-01-01</td>\n",
       "      <td>NaT</td>\n",
       "      <td>House Ads</td>\n",
       "    </tr>\n",
       "  </tbody>\n",
       "</table>\n",
       "</div>"
      ],
      "text/plain": [
       "      user_id date_served marketing_channel          variant converted  \\\n",
       "0  a100000029  2018-01-01         House Ads  personalization      True   \n",
       "1  a100000030  2018-01-01         House Ads  personalization      True   \n",
       "2  a100000031  2018-01-01         House Ads  personalization      True   \n",
       "3  a100000032  2018-01-01         House Ads  personalization      True   \n",
       "4  a100000033  2018-01-01         House Ads  personalization      True   \n",
       "\n",
       "  language_displayed language_preferred    age_group date_subscribed  \\\n",
       "0            English            English   0-18 years      2018-01-01   \n",
       "1            English            English  19-24 years      2018-01-01   \n",
       "2            English            English  24-30 years      2018-01-01   \n",
       "3            English            English  30-36 years      2018-01-01   \n",
       "4            English            English  36-45 years      2018-01-01   \n",
       "\n",
       "  date_canceled subscribing_channel  \n",
       "0           NaT           House Ads  \n",
       "1           NaT           House Ads  \n",
       "2           NaT           House Ads  \n",
       "3           NaT           House Ads  \n",
       "4           NaT           House Ads  "
      ]
     },
     "execution_count": 7,
     "metadata": {},
     "output_type": "execute_result"
    }
   ],
   "source": [
    "df.head()"
   ]
  },
  {
   "cell_type": "markdown",
   "metadata": {},
   "source": [
    "## Visualizatons"
   ]
  },
  {
   "cell_type": "code",
   "execution_count": 8,
   "metadata": {},
   "outputs": [
    {
     "data": {
      "image/png": "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\n",
      "text/plain": [
       "<Figure size 432x288 with 1 Axes>"
      ]
     },
     "metadata": {
      "needs_background": "light"
     },
     "output_type": "display_data"
    }
   ],
   "source": [
    "df.groupby(['converted']).age_group.value_counts().unstack(0).plot.barh();\n",
    "plt.title(\"Converted Subscriptions by Age Group\");"
   ]
  },
  {
   "cell_type": "code",
   "execution_count": 9,
   "metadata": {},
   "outputs": [
    {
     "data": {
      "text/html": [
       "<div>\n",
       "<style scoped>\n",
       "    .dataframe tbody tr th:only-of-type {\n",
       "        vertical-align: middle;\n",
       "    }\n",
       "\n",
       "    .dataframe tbody tr th {\n",
       "        vertical-align: top;\n",
       "    }\n",
       "\n",
       "    .dataframe thead th {\n",
       "        text-align: right;\n",
       "    }\n",
       "</style>\n",
       "<table border=\"1\" class=\"dataframe\">\n",
       "  <thead>\n",
       "    <tr style=\"text-align: right;\">\n",
       "      <th>converted</th>\n",
       "      <th>False</th>\n",
       "      <th>True</th>\n",
       "    </tr>\n",
       "    <tr>\n",
       "      <th>age_group</th>\n",
       "      <th></th>\n",
       "      <th></th>\n",
       "    </tr>\n",
       "  </thead>\n",
       "  <tbody>\n",
       "    <tr>\n",
       "      <th>0-18 years</th>\n",
       "      <td>1336</td>\n",
       "      <td>201</td>\n",
       "    </tr>\n",
       "    <tr>\n",
       "      <th>19-24 years</th>\n",
       "      <td>1365</td>\n",
       "      <td>314</td>\n",
       "    </tr>\n",
       "    <tr>\n",
       "      <th>24-30 years</th>\n",
       "      <td>1328</td>\n",
       "      <td>238</td>\n",
       "    </tr>\n",
       "    <tr>\n",
       "      <th>30-36 years</th>\n",
       "      <td>1271</td>\n",
       "      <td>82</td>\n",
       "    </tr>\n",
       "    <tr>\n",
       "      <th>36-45 years</th>\n",
       "      <td>1273</td>\n",
       "      <td>78</td>\n",
       "    </tr>\n",
       "    <tr>\n",
       "      <th>45-55 years</th>\n",
       "      <td>1271</td>\n",
       "      <td>80</td>\n",
       "    </tr>\n",
       "    <tr>\n",
       "      <th>55+ years</th>\n",
       "      <td>1102</td>\n",
       "      <td>83</td>\n",
       "    </tr>\n",
       "  </tbody>\n",
       "</table>\n",
       "</div>"
      ],
      "text/plain": [
       "converted    False  True \n",
       "age_group                \n",
       "0-18 years    1336    201\n",
       "19-24 years   1365    314\n",
       "24-30 years   1328    238\n",
       "30-36 years   1271     82\n",
       "36-45 years   1273     78\n",
       "45-55 years   1271     80\n",
       "55+ years     1102     83"
      ]
     },
     "execution_count": 9,
     "metadata": {},
     "output_type": "execute_result"
    }
   ],
   "source": [
    "pd.crosstab(df.age_group, df.converted)"
   ]
  },
  {
   "cell_type": "code",
   "execution_count": 10,
   "metadata": {},
   "outputs": [
    {
     "data": {
      "image/png": "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\n",
      "text/plain": [
       "<Figure size 432x288 with 1 Axes>"
      ]
     },
     "metadata": {
      "needs_background": "light"
     },
     "output_type": "display_data"
    },
    {
     "data": {
      "image/png": "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\n",
      "text/plain": [
       "<Figure size 432x288 with 1 Axes>"
      ]
     },
     "metadata": {
      "needs_background": "light"
     },
     "output_type": "display_data"
    },
    {
     "data": {
      "image/png": "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\n",
      "text/plain": [
       "<Figure size 432x288 with 1 Axes>"
      ]
     },
     "metadata": {
      "needs_background": "light"
     },
     "output_type": "display_data"
    },
    {
     "data": {
      "image/png": "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\n",
      "text/plain": [
       "<Figure size 432x288 with 1 Axes>"
      ]
     },
     "metadata": {
      "needs_background": "light"
     },
     "output_type": "display_data"
    }
   ],
   "source": [
    "\n",
    "\n",
    "df[df['age_group'] == '0-18 years'].groupby('subscribing_channel').agg(Converted = pd.NamedAgg(column='converted', \n",
    "                                                                                      aggfunc=sum)).plot.bar(color='lightblue');\n",
    "plt.title(\"Age 0-18 Years by converted channels\")\n",
    "\n",
    "\n",
    "\n",
    "df[df['age_group'] == '19-24 years'].groupby('subscribing_channel').agg(Converted = pd.NamedAgg(column='converted', \n",
    "                                                                                      aggfunc=sum)).plot.bar()\n",
    "plt.title(\"Age 19-24 Years by converted channels\")\n",
    "\n",
    "\n",
    "\n",
    "df[df['age_group'] == '45-55 years'].groupby('subscribing_channel').agg(Converted = pd.NamedAgg(column='converted', \n",
    "                                                                                      aggfunc=sum)).plot.bar(color='lightgreen')\n",
    "plt.title(\"Age 45-55 Years by converted channels\");\n",
    "\n",
    "\n",
    "df[df['age_group'] == '55+ years'].groupby('subscribing_channel').agg(Converted = pd.NamedAgg(column='converted', \n",
    "                                                                                      aggfunc=sum)).plot.bar(color='red')\n",
    "plt.title(\"Age 55+ Years by converted channels\");"
   ]
  },
  {
   "cell_type": "markdown",
   "metadata": {},
   "source": [
    "## Preprocess Columns"
   ]
  },
  {
   "cell_type": "code",
   "execution_count": 11,
   "metadata": {},
   "outputs": [
    {
     "data": {
      "text/plain": [
       "user_id                        object\n",
       "date_served            datetime64[ns]\n",
       "marketing_channel              object\n",
       "variant                        object\n",
       "converted                      object\n",
       "language_displayed             object\n",
       "language_preferred             object\n",
       "age_group                      object\n",
       "date_subscribed        datetime64[ns]\n",
       "date_canceled          datetime64[ns]\n",
       "subscribing_channel            object\n",
       "dtype: object"
      ]
     },
     "execution_count": 11,
     "metadata": {},
     "output_type": "execute_result"
    }
   ],
   "source": [
    "df.dtypes"
   ]
  },
  {
   "cell_type": "code",
   "execution_count": 12,
   "metadata": {
    "scrolled": true
   },
   "outputs": [
    {
     "data": {
      "text/plain": [
       "user_id                   0\n",
       "date_served              16\n",
       "marketing_channel        15\n",
       "variant                   0\n",
       "converted                15\n",
       "language_displayed        0\n",
       "language_preferred        0\n",
       "age_group                 0\n",
       "date_subscribed        8181\n",
       "date_canceled          9460\n",
       "subscribing_channel    8181\n",
       "dtype: int64"
      ]
     },
     "execution_count": 12,
     "metadata": {},
     "output_type": "execute_result"
    }
   ],
   "source": [
    "df.isna().sum()"
   ]
  },
  {
   "cell_type": "code",
   "execution_count": 13,
   "metadata": {},
   "outputs": [],
   "source": [
    "df = df.dropna(axis=0, subset=['converted'])\n",
    "df.drop('subscribing_channel', axis=1, inplace = True)\n",
    "df.drop(['date_canceled', 'date_subscribed'], axis=1, inplace=True)"
   ]
  },
  {
   "cell_type": "code",
   "execution_count": 14,
   "metadata": {},
   "outputs": [
    {
     "data": {
      "text/plain": [
       "user_id               0\n",
       "date_served           1\n",
       "marketing_channel     0\n",
       "variant               0\n",
       "converted             0\n",
       "language_displayed    0\n",
       "language_preferred    0\n",
       "age_group             0\n",
       "dtype: int64"
      ]
     },
     "execution_count": 14,
     "metadata": {},
     "output_type": "execute_result"
    }
   ],
   "source": [
    "df.isna().sum()"
   ]
  },
  {
   "cell_type": "code",
   "execution_count": 15,
   "metadata": {},
   "outputs": [],
   "source": [
    "\n",
    "def preprocess_data(df):\n",
    "    \n",
    "    for label, content in df.items():\n",
    "        if not pd.api.types.is_numeric_dtype(content):\n",
    "            df[label] = pd.Categorical(content).codes \n",
    "    \n",
    "\n"
   ]
  },
  {
   "cell_type": "code",
   "execution_count": 16,
   "metadata": {},
   "outputs": [],
   "source": [
    "\n",
    "df2 = df.copy()\n",
    "preprocess_data(df2)"
   ]
  },
  {
   "cell_type": "code",
   "execution_count": 17,
   "metadata": {},
   "outputs": [
    {
     "data": {
      "text/html": [
       "<div>\n",
       "<style scoped>\n",
       "    .dataframe tbody tr th:only-of-type {\n",
       "        vertical-align: middle;\n",
       "    }\n",
       "\n",
       "    .dataframe tbody tr th {\n",
       "        vertical-align: top;\n",
       "    }\n",
       "\n",
       "    .dataframe thead th {\n",
       "        text-align: right;\n",
       "    }\n",
       "</style>\n",
       "<table border=\"1\" class=\"dataframe\">\n",
       "  <thead>\n",
       "    <tr style=\"text-align: right;\">\n",
       "      <th></th>\n",
       "      <th>user_id</th>\n",
       "      <th>date_served</th>\n",
       "      <th>marketing_channel</th>\n",
       "      <th>variant</th>\n",
       "      <th>converted</th>\n",
       "      <th>language_displayed</th>\n",
       "      <th>language_preferred</th>\n",
       "      <th>age_group</th>\n",
       "    </tr>\n",
       "  </thead>\n",
       "  <tbody>\n",
       "    <tr>\n",
       "      <th>0</th>\n",
       "      <td>28</td>\n",
       "      <td>0</td>\n",
       "      <td>2</td>\n",
       "      <td>1</td>\n",
       "      <td>1</td>\n",
       "      <td>1</td>\n",
       "      <td>1</td>\n",
       "      <td>0</td>\n",
       "    </tr>\n",
       "    <tr>\n",
       "      <th>1</th>\n",
       "      <td>29</td>\n",
       "      <td>0</td>\n",
       "      <td>2</td>\n",
       "      <td>1</td>\n",
       "      <td>1</td>\n",
       "      <td>1</td>\n",
       "      <td>1</td>\n",
       "      <td>1</td>\n",
       "    </tr>\n",
       "    <tr>\n",
       "      <th>2</th>\n",
       "      <td>30</td>\n",
       "      <td>0</td>\n",
       "      <td>2</td>\n",
       "      <td>1</td>\n",
       "      <td>1</td>\n",
       "      <td>1</td>\n",
       "      <td>1</td>\n",
       "      <td>2</td>\n",
       "    </tr>\n",
       "    <tr>\n",
       "      <th>3</th>\n",
       "      <td>31</td>\n",
       "      <td>0</td>\n",
       "      <td>2</td>\n",
       "      <td>1</td>\n",
       "      <td>1</td>\n",
       "      <td>1</td>\n",
       "      <td>1</td>\n",
       "      <td>3</td>\n",
       "    </tr>\n",
       "    <tr>\n",
       "      <th>4</th>\n",
       "      <td>32</td>\n",
       "      <td>0</td>\n",
       "      <td>2</td>\n",
       "      <td>1</td>\n",
       "      <td>1</td>\n",
       "      <td>1</td>\n",
       "      <td>1</td>\n",
       "      <td>4</td>\n",
       "    </tr>\n",
       "  </tbody>\n",
       "</table>\n",
       "</div>"
      ],
      "text/plain": [
       "   user_id  date_served  marketing_channel  variant  converted  \\\n",
       "0       28            0                  2        1          1   \n",
       "1       29            0                  2        1          1   \n",
       "2       30            0                  2        1          1   \n",
       "3       31            0                  2        1          1   \n",
       "4       32            0                  2        1          1   \n",
       "\n",
       "   language_displayed  language_preferred  age_group  \n",
       "0                   1                   1          0  \n",
       "1                   1                   1          1  \n",
       "2                   1                   1          2  \n",
       "3                   1                   1          3  \n",
       "4                   1                   1          4  "
      ]
     },
     "execution_count": 17,
     "metadata": {},
     "output_type": "execute_result"
    }
   ],
   "source": [
    "df2.head()"
   ]
  },
  {
   "cell_type": "markdown",
   "metadata": {},
   "source": [
    "## Modeling"
   ]
  },
  {
   "cell_type": "code",
   "execution_count": 18,
   "metadata": {},
   "outputs": [
    {
     "data": {
      "text/plain": [
       "user_id                       object\n",
       "date_served           datetime64[ns]\n",
       "marketing_channel             object\n",
       "variant                       object\n",
       "converted                     object\n",
       "language_displayed            object\n",
       "language_preferred            object\n",
       "age_group                     object\n",
       "dtype: object"
      ]
     },
     "execution_count": 18,
     "metadata": {},
     "output_type": "execute_result"
    }
   ],
   "source": [
    "df.dtypes"
   ]
  },
  {
   "cell_type": "markdown",
   "metadata": {},
   "source": [
    "We will try three models:\n",
    "    \n",
    "    - KNeighborsClassifier\n",
    "    - Logistic Regression\n",
    "    - Random Forest Classifier\n",
    "    - AdaBoost Classifier"
   ]
  },
  {
   "cell_type": "code",
   "execution_count": 19,
   "metadata": {},
   "outputs": [],
   "source": [
    "from sklearn.neighbors import KNeighborsClassifier\n",
    "from sklearn.linear_model import LogisticRegression\n",
    "from sklearn.ensemble import RandomForestClassifier\n",
    "from sklearn.ensemble import AdaBoostClassifier"
   ]
  },
  {
   "cell_type": "code",
   "execution_count": 20,
   "metadata": {},
   "outputs": [],
   "source": [
    "X = df2.drop('converted', axis=1)\n",
    "y = df2['converted']\n"
   ]
  },
  {
   "cell_type": "code",
   "execution_count": 21,
   "metadata": {},
   "outputs": [
    {
     "data": {
      "text/plain": [
       "((8017, 7), (2005, 7), (8017,), (2005,))"
      ]
     },
     "execution_count": 21,
     "metadata": {},
     "output_type": "execute_result"
    }
   ],
   "source": [
    "from sklearn.model_selection import train_test_split\n",
    "\n",
    "X_train, X_test, y_train, y_test = train_test_split(X, y, test_size=0.2)\n",
    "\n",
    "X_train.shape, X_test.shape, y_train.shape, y_test.shape"
   ]
  },
  {
   "cell_type": "code",
   "execution_count": 22,
   "metadata": {},
   "outputs": [],
   "source": [
    "prediction_models = {'KNeighborsClassifier': KNeighborsClassifier(),\n",
    "                     'LogisticRegression': LogisticRegression(),\n",
    "                     'RandomForestClassifier': RandomForestClassifier()}\n",
    "\n",
    "\n",
    "def model_scores(X_train, X_test, y_train, y_test ):\n",
    "    \n",
    "    np.random.seed(42)\n",
    "    \n",
    "    results = {}\n",
    "    \n",
    "    for name, model in prediction_models.items():\n",
    "        \n",
    "        \n",
    "        model.fit(X_train, y_train)\n",
    "        results[name] = model.score(X_test, y_test)\n",
    "        \n",
    "    return results\n",
    "         "
   ]
  },
  {
   "cell_type": "code",
   "execution_count": 23,
   "metadata": {},
   "outputs": [
    {
     "name": "stderr",
     "output_type": "stream",
     "text": [
      "/Users/jacobywilkerson/.local/lib/python3.8/site-packages/sklearn/linear_model/_logistic.py:938: ConvergenceWarning: lbfgs failed to converge (status=1):\n",
      "STOP: TOTAL NO. of ITERATIONS REACHED LIMIT.\n",
      "\n",
      "Increase the number of iterations (max_iter) or scale the data as shown in:\n",
      "    https://scikit-learn.org/stable/modules/preprocessing.html\n",
      "Please also refer to the documentation for alternative solver options:\n",
      "    https://scikit-learn.org/stable/modules/linear_model.html#logistic-regression\n",
      "  n_iter_i = _check_optimize_result(\n"
     ]
    },
    {
     "data": {
      "text/plain": [
       "{'KNeighborsClassifier': 0.9605985037406484,\n",
       " 'LogisticRegression': 0.9306733167082294,\n",
       " 'RandomForestClassifier': 0.9820448877805487}"
      ]
     },
     "execution_count": 23,
     "metadata": {},
     "output_type": "execute_result"
    }
   ],
   "source": [
    "model_scores(X_train, X_test, y_train, y_test)"
   ]
  },
  {
   "cell_type": "markdown",
   "metadata": {},
   "source": [
    "## Hypertune RandomForestClassifier"
   ]
  },
  {
   "cell_type": "code",
   "execution_count": 24,
   "metadata": {},
   "outputs": [],
   "source": [
    "rf_grid = {'n_estimators': np.arange(10, 500, 100),\n",
    "           'min_samples_split': np.arange(2, 10, 2),\n",
    "           'max_depth': [None, 1,2, 3] }"
   ]
  },
  {
   "cell_type": "code",
   "execution_count": 25,
   "metadata": {},
   "outputs": [
    {
     "name": "stdout",
     "output_type": "stream",
     "text": [
      "Fitting 5 folds for each of 15 candidates, totalling 75 fits\n"
     ]
    },
    {
     "name": "stderr",
     "output_type": "stream",
     "text": [
      "[Parallel(n_jobs=1)]: Using backend SequentialBackend with 1 concurrent workers.\n",
      "[Parallel(n_jobs=1)]: Done  75 out of  75 | elapsed:   55.8s finished\n"
     ]
    },
    {
     "data": {
      "text/plain": [
       "RandomizedSearchCV(cv=5, error_score=nan,\n",
       "                   estimator=RandomForestClassifier(bootstrap=True,\n",
       "                                                    ccp_alpha=0.0,\n",
       "                                                    class_weight=None,\n",
       "                                                    criterion='gini',\n",
       "                                                    max_depth=None,\n",
       "                                                    max_features='auto',\n",
       "                                                    max_leaf_nodes=None,\n",
       "                                                    max_samples=None,\n",
       "                                                    min_impurity_decrease=0.0,\n",
       "                                                    min_impurity_split=None,\n",
       "                                                    min_samples_leaf=1,\n",
       "                                                    min_samples_split=2,\n",
       "                                                    min_weight_fraction_leaf=0.0,\n",
       "                                                    n_estimators=100,\n",
       "                                                    n_jobs=None,\n",
       "                                                    oob_score=False,\n",
       "                                                    random_state=None,\n",
       "                                                    verbose=0,\n",
       "                                                    warm_start=False),\n",
       "                   iid='deprecated', n_iter=15, n_jobs=None,\n",
       "                   param_distributions={'max_depth': [None, 1, 2, 3],\n",
       "                                        'min_samples_split': array([2, 4, 6, 8]),\n",
       "                                        'n_estimators': array([ 10, 110, 210, 310, 410])},\n",
       "                   pre_dispatch='2*n_jobs', random_state=None, refit=True,\n",
       "                   return_train_score=False, scoring=None, verbose=True)"
      ]
     },
     "execution_count": 25,
     "metadata": {},
     "output_type": "execute_result"
    }
   ],
   "source": [
    "from sklearn.model_selection import RandomizedSearchCV\n",
    "\n",
    "\n",
    "tuned_model = RandomizedSearchCV(RandomForestClassifier(),\n",
    "                                 param_distributions=rf_grid,\n",
    "                                 cv=5,\n",
    "                                 n_iter=15,\n",
    "                                 verbose=True)\n",
    "\n",
    "tuned_model.fit(X_train, y_train)"
   ]
  },
  {
   "cell_type": "code",
   "execution_count": 26,
   "metadata": {},
   "outputs": [
    {
     "data": {
      "text/plain": [
       "{'n_estimators': 410, 'min_samples_split': 4, 'max_depth': None}"
      ]
     },
     "execution_count": 26,
     "metadata": {},
     "output_type": "execute_result"
    }
   ],
   "source": [
    "tuned_model.best_params_"
   ]
  },
  {
   "cell_type": "code",
   "execution_count": 27,
   "metadata": {},
   "outputs": [
    {
     "data": {
      "text/plain": [
       "0.9840399002493766"
      ]
     },
     "execution_count": 27,
     "metadata": {},
     "output_type": "execute_result"
    }
   ],
   "source": [
    "tuned_model.score(X_test, y_test)"
   ]
  },
  {
   "cell_type": "code",
   "execution_count": 56,
   "metadata": {},
   "outputs": [],
   "source": [
    "# Try AdaBoostClassifer\n",
    "from sklearn.tree import DecisionTreeClassifier\n",
    "from sklearn.metrics import confusion_matrix\n",
    "from sklearn.datasets import make_classification\n",
    "\n",
    "X_train2, X_test2, y_train2, y_test2 = train_test_split(X, y, random_state=1)\n",
    "\n",
    "#X_train2, y_train2 = make_classification(n_samples=1000, n_features=4,\n",
    "#                          random_state=42, shuffle=False)\n",
    "\n",
    "ab_classifier = AdaBoostClassifier(DecisionTreeClassifier(), random_state=1, n_estimators=100, learning_rate=0.5)"
   ]
  },
  {
   "cell_type": "code",
   "execution_count": 57,
   "metadata": {},
   "outputs": [
    {
     "data": {
      "text/plain": [
       "AdaBoostClassifier(algorithm='SAMME.R',\n",
       "                   base_estimator=DecisionTreeClassifier(ccp_alpha=0.0,\n",
       "                                                         class_weight=None,\n",
       "                                                         criterion='gini',\n",
       "                                                         max_depth=None,\n",
       "                                                         max_features=None,\n",
       "                                                         max_leaf_nodes=None,\n",
       "                                                         min_impurity_decrease=0.0,\n",
       "                                                         min_impurity_split=None,\n",
       "                                                         min_samples_leaf=1,\n",
       "                                                         min_samples_split=2,\n",
       "                                                         min_weight_fraction_leaf=0.0,\n",
       "                                                         presort='deprecated',\n",
       "                                                         random_state=None,\n",
       "                                                         splitter='best'),\n",
       "                   learning_rate=0.5, n_estimators=100, random_state=1)"
      ]
     },
     "execution_count": 57,
     "metadata": {},
     "output_type": "execute_result"
    }
   ],
   "source": [
    "ab_classifier.fit(X_train2, y_train2)\n"
   ]
  },
  {
   "cell_type": "code",
   "execution_count": 58,
   "metadata": {},
   "outputs": [
    {
     "data": {
      "text/plain": [
       "0.9872306464485235"
      ]
     },
     "execution_count": 58,
     "metadata": {},
     "output_type": "execute_result"
    }
   ],
   "source": [
    "ab_classifier.score(X_test2, y_test2)"
   ]
  },
  {
   "cell_type": "markdown",
   "metadata": {},
   "source": [
    "## Evaluate Our Tuned Models"
   ]
  },
  {
   "cell_type": "code",
   "execution_count": 59,
   "metadata": {},
   "outputs": [],
   "source": [
    "rf_preds = tuned_model.predict(X_test)\n",
    "ab_preds = ab_classifier.predict(X_test2)\n"
   ]
  },
  {
   "cell_type": "code",
   "execution_count": 64,
   "metadata": {},
   "outputs": [
    {
     "data": {
      "image/png": "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\n",
      "text/plain": [
       "<Figure size 432x288 with 1 Axes>"
      ]
     },
     "metadata": {
      "needs_background": "light"
     },
     "output_type": "display_data"
    },
    {
     "data": {
      "image/png": "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\n",
      "text/plain": [
       "<Figure size 432x288 with 1 Axes>"
      ]
     },
     "metadata": {
      "needs_background": "light"
     },
     "output_type": "display_data"
    }
   ],
   "source": [
    "from sklearn.metrics import plot_roc_curve\n",
    "\n",
    "plot_roc_curve(tuned_model, X_test, y_test);\n",
    "plot_roc_curve(ab_classifier, X_test2, y_test2);"
   ]
  },
  {
   "cell_type": "code",
   "execution_count": 88,
   "metadata": {},
   "outputs": [],
   "source": [
    "sns.set(font_scale=1.5)\n",
    "\n",
    "def plot_conf_matrix(y_test, y_preds, str):\n",
    "    \n",
    "    fig, ax = plt.subplots(figsize=(3, 3))\n",
    "    ax = sns.heatmap(confusion_matrix(y_test, y_preds),\n",
    "                     annot = True,\n",
    "                     cbar=False,\n",
    "                     fmt='d')\n",
    "    \n",
    "    plt.xlabel(\"Predicted Label\")\n",
    "    plt.ylabel(\"True Label\")\n",
    "    ax.set_title(str)\n",
    "    \n",
    "    \n",
    "    bottom, top = ax.get_ylim()\n",
    "    #ax.set_ylim(bottom + 0.5, top - 0.5)\n",
    "    \n",
    "    "
   ]
  },
  {
   "cell_type": "code",
   "execution_count": 92,
   "metadata": {},
   "outputs": [
    {
     "data": {
      "image/png": "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\n",
      "text/plain": [
       "<Figure size 216x216 with 1 Axes>"
      ]
     },
     "metadata": {},
     "output_type": "display_data"
    },
    {
     "data": {
      "image/png": "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\n",
      "text/plain": [
       "<Figure size 216x216 with 1 Axes>"
      ]
     },
     "metadata": {},
     "output_type": "display_data"
    }
   ],
   "source": [
    "plot_conf_matrix(y_test, rf_preds, \"RandomForestRegressor Model\")\n",
    "plot_conf_matrix(y_test2, ab_preds, \"AdaBoostClassifier Model\") # The test dataset is a different size"
   ]
  },
  {
   "cell_type": "code",
   "execution_count": 94,
   "metadata": {},
   "outputs": [
    {
     "name": "stdout",
     "output_type": "stream",
     "text": [
      "              precision    recall  f1-score   support\n",
      "\n",
      "           0       0.99      0.99      0.99      1780\n",
      "           1       0.94      0.92      0.93       225\n",
      "\n",
      "    accuracy                           0.98      2005\n",
      "   macro avg       0.96      0.96      0.96      2005\n",
      "weighted avg       0.98      0.98      0.98      2005\n",
      "\n"
     ]
    }
   ],
   "source": [
    "from sklearn.metrics import classification_report\n",
    "\n",
    "print(classification_report(y_test, rf_preds))"
   ]
  },
  {
   "cell_type": "code",
   "execution_count": 96,
   "metadata": {},
   "outputs": [
    {
     "name": "stdout",
     "output_type": "stream",
     "text": [
      "              precision    recall  f1-score   support\n",
      "\n",
      "           0       0.99      0.99      0.99      2249\n",
      "           1       0.94      0.93      0.94       257\n",
      "\n",
      "    accuracy                           0.99      2506\n",
      "   macro avg       0.97      0.96      0.97      2506\n",
      "weighted avg       0.99      0.99      0.99      2506\n",
      "\n"
     ]
    }
   ],
   "source": [
    "print(classification_report(y_test2, ab_preds))"
   ]
  },
  {
   "cell_type": "code",
   "execution_count": 98,
   "metadata": {},
   "outputs": [
    {
     "data": {
      "text/plain": [
       "['AB_Classifier.sav']"
      ]
     },
     "execution_count": 98,
     "metadata": {},
     "output_type": "execute_result"
    }
   ],
   "source": [
    "# Save Models\n",
    "import joblib\n",
    "\n",
    "filename1 = \"tuned_RForestClassifier.sav\"\n",
    "filename2 = 'AB_Classifier.sav'\n",
    "joblib.dump(tuned_model, filename1)\n",
    "joblib.dump(ab_classifier,filename2)\n"
   ]
  },
  {
   "cell_type": "code",
   "execution_count": null,
   "metadata": {},
   "outputs": [],
   "source": []
  }
 ],
 "metadata": {
  "kernelspec": {
   "display_name": "Python 3",
   "language": "python",
   "name": "python3"
  },
  "language_info": {
   "codemirror_mode": {
    "name": "ipython",
    "version": 3
   },
   "file_extension": ".py",
   "mimetype": "text/x-python",
   "name": "python",
   "nbconvert_exporter": "python",
   "pygments_lexer": "ipython3",
   "version": "3.8.2"
  }
 },
 "nbformat": 4,
 "nbformat_minor": 4
}
